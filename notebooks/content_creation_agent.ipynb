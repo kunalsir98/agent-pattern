{
 "cells": [
  {
   "cell_type": "code",
   "execution_count": 8,
   "id": "afe3b42e",
   "metadata": {},
   "outputs": [],
   "source": [
    "from dotenv import load_dotenv \n",
    "from groq import Groq \n",
    "import os \n",
    "from IPython.display import display_markdown\n",
    "from agentic_patterns import ReflectionAgent\n",
    "\n",
    "\n",
    "class FixedReflectionAgent(ReflectionAgent):\n",
    "    def __init__(self,model='llama-70b-8192',reflection_model='llama-70b-8192'):\n",
    "        super().__init__()\n",
    "        self.model=model\n",
    "        self.reflection_model=reflection_model\n",
    "\n",
    "    def generate(self, generation_history:list, verbose:int = 0):\n",
    "        try:\n",
    "            response=self.client.chat.completions.create(\n",
    "                messages=generation_history,\n",
    "                model=self.model,\n",
    "                temperature=0.0,\n",
    "                max_tokens=4000,\n",
    "            )\n",
    "            return response.choices[0].message.content\n",
    "        except Exception as e:\n",
    "            if verbose >=1:\n",
    "                print(f'Error during genration: {e}')\n",
    "            raise\n",
    "\n",
    "    def reflect(self, reflection_history, verbose = 0):\n",
    "        try:\n",
    "             response=self.client.chat.completions.create(\n",
    "                 messages=reflection_history,\n",
    "                 model=self.reflection_model,\n",
    "                 temperature=0.0,\n",
    "                 max_tokens=4000\n",
    "\n",
    "             )\n",
    "             return response.choices[0].message.content\n",
    "        except Exception as e: \n",
    "            if verbose >= 1:\n",
    "                print(f\"Error during refelction: {e}\")\n",
    "            raise\n",
    "\n",
    "client=Groq(api_key=os.getenv('GROQ_API_KEY'))"
   ]
  },
  {
   "cell_type": "code",
   "execution_count": 9,
   "id": "7b96c49e",
   "metadata": {},
   "outputs": [],
   "source": [
    "generate_chat_history = [\n",
    "    {\n",
    "        'role': 'system',\n",
    "        'content': (\n",
    "            \"You are a visionary Content Creator specializing in compelling marketing narratives. \"\n",
    "            \"Generate emotionally resonant content that:\\n\"\n",
    "            \"1. Captures attention within 3 seconds\\n\"\n",
    "            \"2. Highlights unique value propositions\\n\"\n",
    "            \"3. Uses vivid sensory language\\n\"\n",
    "            \"4. Includes strategic CTAs\\n\"\n",
    "            \"5. Adapts tone to brand voice (specify if provided)\\n\\n\"\n",
    "            \"Format responses with:\\n\"\n",
    "            \"- Engaging headline\\n\"\n",
    "            \"- Core narrative (2–3 paragraphs)\\n\"\n",
    "            \"- Hashtag strategy\\n\"\n",
    "            \"- Platform-ready hooks (first 125 characters)\"\n",
    "        )\n",
    "    },\n",
    "    {\n",
    "        'role': 'user',\n",
    "        'content': (\n",
    "            \"Create captivating marketing content about [Topic/Product]. \"\n",
    "            \"Key features: [Feature 1], [Feature 2]. \"\n",
    "            \"Target audience: [Audience Description].\"\n",
    "        )\n",
    "    }\n",
    "]\n"
   ]
  },
  {
   "cell_type": "code",
   "execution_count": 11,
   "id": "e845fede",
   "metadata": {},
   "outputs": [
    {
     "data": {
      "text/markdown": [
       "Here's a sample response:\n",
       "\n",
       "**Engaging Headline:** Unlock the Secret to Effortless Productivity: Introducing [Product Name]\n",
       "\n",
       "**Core Narrative:**\n",
       "\n",
       "Imagine having an extra hour every day to focus on what truly matters. With [Product Name], you can say goodbye to tedious task management and hello to a streamlined workflow. Our innovative solution combines the power of [Feature 1], AI-driven task prioritization, and [Feature 2], seamless collaboration tools, to revolutionize the way you work.\n",
       "\n",
       "Picture this: you're sipping your morning coffee, and your to-do list is already organized, with critical tasks highlighted and ready to tackle. Your team is on the same page, working together in perfect harmony. That's the reality [Product Name] creates. By automating routine tasks and providing real-time feedback, you'll be amazed at how much more you can accomplish in less time.\n",
       "\n",
       "The result? More freedom to pursue your passions, more confidence in your abilities, and more time to enjoy the fruits of your labor. Join the productivity revolution and discover a better way to work with [Product Name].\n",
       "\n",
       "**Hashtag Strategy:** #ProductivityUnlocked #StreamlineYourWorkflow #CollaborationMadeEasy #AIpoweredProductivity #WorkSmarterNotHarder\n",
       "\n",
       "**Platform-ready Hooks:**\n",
       "\n",
       "* Facebook: \"Ready to unlock an extra hour in your day? Discover how [Product Name] can transform your workflow! #ProductivityUnlocked\"\n",
       "* Twitter: \"Ditch tedious task management and hello to effortless productivity with [Product Name]! #StreamlineYourWorkflow\"\n",
       "* Instagram: \"Imagine having more time for what matters most... [Product Name] makes it possible! #CollaborationMadeEasy\"\n",
       "* LinkedIn: \"Take your productivity to the next level with [Product Name]'s AI-driven task prioritization and seamless collaboration tools! #AIpoweredProductivity\"\n",
       "\n",
       "Please provide the topic/product, key features, and target audience description to create customized content."
      ]
     },
     "metadata": {},
     "output_type": "display_data"
    }
   ],
   "source": [
    "response=client.chat.completions.create(\n",
    "    messages=generate_chat_history,\n",
    "    model='llama3-70b-8192',\n",
    "    temperature=0.0,\n",
    "    max_tokens=1000\n",
    "\n",
    ")\n",
    "content_code=response.choices[0].message.content\n",
    "display_markdown(content_code,raw=True)"
   ]
  },
  {
   "cell_type": "code",
   "execution_count": 12,
   "id": "b2e9bcff",
   "metadata": {},
   "outputs": [],
   "source": [
    "reflection_history = [\n",
    "    {\n",
    "        'role': 'system',\n",
    "        'content': (\n",
    "            \"You are Darren Rowse, veteran content strategist with 15+ years experience. \"\n",
    "            \"Provide razor-sharp critiques that:\\n\"\n",
    "            \"1. Evaluate content effectiveness against marketing objectives\\n\"\n",
    "            \"2. Assess emotional resonance and audience alignment\\n\"\n",
    "            \"3. Identify structural weaknesses and optimization opportunities\\n\"\n",
    "            \"4. Benchmark against industry best practices\\n\"\n",
    "            \"5. Offer actionable revision strategies\\n\\n\"\n",
    "            \"Critique format:\\n\"\n",
    "            \"- 🎯 Objective Alignment (1-5)\\n\"\n",
    "            \"- 💔 Engagement Gaps\\n\"\n",
    "            \"- ✨ Top Strengths\\n\"\n",
    "            \"- 🔥 Improvement Priorities\\n\"\n",
    "            \"- 🛠️ Quick Wins\\n\"\n",
    "            \"- 📈 Strategic Recommendations\"\n",
    "        )\n",
    "    },\n",
    "    {\n",
    "        'role': 'user',\n",
    "        'content': (\n",
    "            \"Perform expert content audit on this implementation:\\n\"\n",
    "            \"```python\\n{content_code}\\n```\\n\\n\"\n",
    "            \"Key evaluation criteria:\\n\"\n",
    "            \"• Conversion potential\\n\"\n",
    "            \"• Brand voice consistency\\n\"\n",
    "            \"• Platform-specific optimization\\n\"\n",
    "            \"• SEO fundamentals\\n\"\n",
    "            \"• Psychological triggers\"\n",
    "        )\n",
    "    }\n",
    "]"
   ]
  },
  {
   "cell_type": "code",
   "execution_count": 13,
   "id": "76bc3985",
   "metadata": {},
   "outputs": [
    {
     "name": "stdout",
     "output_type": "stream",
     "text": [
      "\n",
      "Code Critique:\n"
     ]
    },
    {
     "data": {
      "text/markdown": [
       "I'm happy to help! However, I notice that there is no content provided in the `{content_code}` section. As a content strategist, I need actual content to evaluate. Please provide the content you'd like me to audit, and I'll be happy to provide a razor-sharp critique.\n",
       "\n",
       "If you meant to provide a Python code snippet, I'd be happy to help with that as well. However, I assume you meant to provide a piece of content, such as a blog post, article, or social media post.\n",
       "\n",
       "Once you provide the content, I'll evaluate it based on the key criteria you specified:\n",
       "\n",
       "• Conversion potential\n",
       "• Brand voice consistency\n",
       "• Platform-specific optimization\n",
       "• SEO fundamentals\n",
       "• Psychological triggers\n",
       "\n",
       "I'll provide a detailed critique in the following format:\n",
       "\n",
       "- 🎯 Objective Alignment (1-5)\n",
       "- 💔 Engagement Gaps\n",
       "- ✨ Top Strengths\n",
       "- 🔥 Improvement Priorities\n",
       "- 🛠️ Quick Wins\n",
       "- 📈 Strategic Recommendations\n",
       "\n",
       "Please provide the content, and I'll get started!"
      ]
     },
     "metadata": {},
     "output_type": "display_data"
    }
   ],
   "source": [
    "#get critique \n",
    "\n",
    "critique=client.chat.completions.create(\n",
    "    messages=reflection_history,\n",
    "    model='llama3-70b-8192',\n",
    "    temperature=0.0,\n",
    "    max_tokens=1000\n",
    "\n",
    ").choices[0].message.content\n",
    "print(\"\\nCode Critique:\")\n",
    "display_markdown(critique, raw=True)"
   ]
  },
  {
   "cell_type": "code",
   "execution_count": 15,
   "id": "520e98fd",
   "metadata": {},
   "outputs": [],
   "source": [
    "#revised implimentation\n",
    "\n",
    "generate_chat_history.append(\n",
    "    {\n",
    "        'role':'assistant',\n",
    "        'content':content_code\n",
    "    }\n",
    ")\n",
    "\n",
    "generate_chat_history.append(\n",
    "    {\n",
    "        'role':'user',\n",
    "        'content':f\"Based on this critique, revise the implementation:\\n\\n{critique}\"\n",
    "}\n",
    ")"
   ]
  },
  {
   "cell_type": "code",
   "execution_count": 16,
   "id": "03a9ceb3",
   "metadata": {},
   "outputs": [
    {
     "name": "stdout",
     "output_type": "stream",
     "text": [
      "\n",
      " revised implementation\n"
     ]
    },
    {
     "data": {
      "text/markdown": [
       "Here is the revised implementation:\n",
       "\n",
       "**Engaging Headline:** Unlock the Secret to Effortless Productivity: Introducing [Product Name]\n",
       "\n",
       "**Core Narrative:**\n",
       "\n",
       "Imagine having an extra hour every day to focus on what truly matters. With [Product Name], you can say goodbye to tedious task management and hello to a streamlined workflow. Our innovative solution combines the power of AI-driven task prioritization and seamless collaboration tools to revolutionize the way you work.\n",
       "\n",
       "Picture this: you're sipping your morning coffee, and your to-do list is already organized, with critical tasks highlighted and ready to tackle. Your team is on the same page, working together in perfect harmony. That's the reality [Product Name] creates. By automating routine tasks and providing real-time feedback, you'll be amazed at how much more you can accomplish in less time.\n",
       "\n",
       "The result? More freedom to pursue your passions, more confidence in your abilities, and more time to enjoy the fruits of your labor. Join the productivity revolution and discover a better way to work with [Product Name].\n",
       "\n",
       "**Critique Request:**\n",
       "\n",
       "Please evaluate this content based on the following criteria:\n",
       "\n",
       "• Conversion potential\n",
       "• Brand voice consistency\n",
       "• Platform-specific optimization\n",
       "• SEO fundamentals\n",
       "• Psychological triggers\n",
       "\n",
       "I would appreciate a detailed critique in the following format:\n",
       "\n",
       "- 🎯 Objective Alignment (1-5)\n",
       "- 💔 Engagement Gaps\n",
       "- ✨ Top Strengths\n",
       "- 🔥 Improvement Priorities\n",
       "- 🛠️ Quick Wins\n",
       "- 📈 Strategic Recommendations\n",
       "\n",
       "**Hashtag Strategy:** #ProductivityUnlocked #StreamlineYourWorkflow #CollaborationMadeEasy #AIpoweredProductivity #WorkSmarterNotHarder\n",
       "\n",
       "**Platform-ready Hooks:**\n",
       "\n",
       "* Facebook: \"Ready to unlock an extra hour in your day? Discover how [Product Name] can transform your workflow! #ProductivityUnlocked\"\n",
       "* Twitter: \"Ditch tedious task management and hello to effortless productivity with [Product Name]! #StreamlineYourWorkflow\"\n",
       "* Instagram: \"Imagine having more time for what matters most... [Product Name] makes it possible! #CollaborationMadeEasy\"\n",
       "* LinkedIn: \"Take your productivity to the next level with [Product Name]'s AI-driven task prioritization and seamless collaboration tools! #AIpoweredProductivity\"\n",
       "\n",
       "Please provide your critique and recommendations for improvement!"
      ]
     },
     "metadata": {},
     "output_type": "display_data"
    }
   ],
   "source": [
    "revised_code=client.chat.completions.create(\n",
    "    messages=generate_chat_history,\n",
    "    model='llama3-70b-8192',\n",
    "    temperature=0.0,\n",
    "    max_tokens=1000\n",
    ").choices[0].message.content\n",
    "print(\"\\n revised implementation\")\n",
    "display_markdown(revised_code,raw=True)"
   ]
  },
  {
   "cell_type": "code",
   "execution_count": null,
   "id": "3d271833",
   "metadata": {},
   "outputs": [],
   "source": []
  }
 ],
 "metadata": {
  "kernelspec": {
   "display_name": "Python 3",
   "language": "python",
   "name": "python3"
  },
  "language_info": {
   "codemirror_mode": {
    "name": "ipython",
    "version": 3
   },
   "file_extension": ".py",
   "mimetype": "text/x-python",
   "name": "python",
   "nbconvert_exporter": "python",
   "pygments_lexer": "ipython3",
   "version": "3.11.13"
  }
 },
 "nbformat": 4,
 "nbformat_minor": 5
}
